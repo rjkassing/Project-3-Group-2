{
 "cells": [
  {
   "cell_type": "markdown",
   "id": "dense-combination",
   "metadata": {},
   "source": [
    "Setting up the Time Series"
   ]
  },
  {
   "cell_type": "code",
   "execution_count": 1,
   "id": "black-wilderness",
   "metadata": {},
   "outputs": [],
   "source": [
    "#import dependencies\n",
    "import pandas as pd\n",
    "from pandas import datetime\n",
    "from matplotlib import pyplot\n",
    "from pandas.plotting import autocorrelation_plot\n",
    "from statsmodels.tsa.stattools import adfuller\n",
    "from numpy import log"
   ]
  },
  {
   "cell_type": "code",
   "execution_count": 2,
   "id": "portable-shoulder",
   "metadata": {},
   "outputs": [
    {
     "data": {
      "text/html": [
       "<div>\n",
       "<style scoped>\n",
       "    .dataframe tbody tr th:only-of-type {\n",
       "        vertical-align: middle;\n",
       "    }\n",
       "\n",
       "    .dataframe tbody tr th {\n",
       "        vertical-align: top;\n",
       "    }\n",
       "\n",
       "    .dataframe thead th {\n",
       "        text-align: right;\n",
       "    }\n",
       "</style>\n",
       "<table border=\"1\" class=\"dataframe\">\n",
       "  <thead>\n",
       "    <tr style=\"text-align: right;\">\n",
       "      <th></th>\n",
       "      <th>Object Number</th>\n",
       "      <th>AccessionYear</th>\n",
       "    </tr>\n",
       "  </thead>\n",
       "  <tbody>\n",
       "    <tr>\n",
       "      <th>0</th>\n",
       "      <td>17.190.1707</td>\n",
       "      <td>1917.0</td>\n",
       "    </tr>\n",
       "    <tr>\n",
       "      <th>1</th>\n",
       "      <td>26.101.6</td>\n",
       "      <td>1926.0</td>\n",
       "    </tr>\n",
       "    <tr>\n",
       "      <th>2</th>\n",
       "      <td>67.155.23</td>\n",
       "      <td>1967.0</td>\n",
       "    </tr>\n",
       "    <tr>\n",
       "      <th>3</th>\n",
       "      <td>49.109</td>\n",
       "      <td>1949.0</td>\n",
       "    </tr>\n",
       "    <tr>\n",
       "      <th>4</th>\n",
       "      <td>59.7</td>\n",
       "      <td>1959.0</td>\n",
       "    </tr>\n",
       "  </tbody>\n",
       "</table>\n",
       "</div>"
      ],
      "text/plain": [
       "  Object Number  AccessionYear\n",
       "0   17.190.1707         1917.0\n",
       "1      26.101.6         1926.0\n",
       "2     67.155.23         1967.0\n",
       "3        49.109         1949.0\n",
       "4          59.7         1959.0"
      ]
     },
     "execution_count": 2,
     "metadata": {},
     "output_type": "execute_result"
    }
   ],
   "source": [
    "#read in csv containing countries involved in the Holocaust (countries provided by the United States Holocaust Museaum)\n",
    "csv = \"Holocaust.csv\"\n",
    "\n",
    "full_data = pd.read_csv(csv)\n",
    "\n",
    "#reduce dataframe to just the object number (unique per piece) and year the Met acquired the piece\n",
    "year_acq = full_data[[\"Object Number\", \"AccessionYear\"]]\n",
    "\n",
    "year_acq.head()"
   ]
  },
  {
   "cell_type": "code",
   "execution_count": 3,
   "id": "assigned-editor",
   "metadata": {},
   "outputs": [
    {
     "data": {
      "text/html": [
       "<div>\n",
       "<style scoped>\n",
       "    .dataframe tbody tr th:only-of-type {\n",
       "        vertical-align: middle;\n",
       "    }\n",
       "\n",
       "    .dataframe tbody tr th {\n",
       "        vertical-align: top;\n",
       "    }\n",
       "\n",
       "    .dataframe thead th {\n",
       "        text-align: right;\n",
       "    }\n",
       "</style>\n",
       "<table border=\"1\" class=\"dataframe\">\n",
       "  <thead>\n",
       "    <tr style=\"text-align: right;\">\n",
       "      <th></th>\n",
       "      <th>Object Number</th>\n",
       "    </tr>\n",
       "    <tr>\n",
       "      <th>AccessionYear</th>\n",
       "      <th></th>\n",
       "    </tr>\n",
       "  </thead>\n",
       "  <tbody>\n",
       "    <tr>\n",
       "      <th>1883.0</th>\n",
       "      <td>31</td>\n",
       "    </tr>\n",
       "    <tr>\n",
       "      <th>1885.0</th>\n",
       "      <td>1</td>\n",
       "    </tr>\n",
       "    <tr>\n",
       "      <th>1888.0</th>\n",
       "      <td>1</td>\n",
       "    </tr>\n",
       "    <tr>\n",
       "      <th>1889.0</th>\n",
       "      <td>724</td>\n",
       "    </tr>\n",
       "    <tr>\n",
       "      <th>1890.0</th>\n",
       "      <td>7</td>\n",
       "    </tr>\n",
       "    <tr>\n",
       "      <th>...</th>\n",
       "      <td>...</td>\n",
       "    </tr>\n",
       "    <tr>\n",
       "      <th>2015.0</th>\n",
       "      <td>8</td>\n",
       "    </tr>\n",
       "    <tr>\n",
       "      <th>2016.0</th>\n",
       "      <td>3</td>\n",
       "    </tr>\n",
       "    <tr>\n",
       "      <th>2018.0</th>\n",
       "      <td>32</td>\n",
       "    </tr>\n",
       "    <tr>\n",
       "      <th>2019.0</th>\n",
       "      <td>1</td>\n",
       "    </tr>\n",
       "    <tr>\n",
       "      <th>2020.0</th>\n",
       "      <td>1</td>\n",
       "    </tr>\n",
       "  </tbody>\n",
       "</table>\n",
       "<p>125 rows × 1 columns</p>\n",
       "</div>"
      ],
      "text/plain": [
       "               Object Number\n",
       "AccessionYear               \n",
       "1883.0                    31\n",
       "1885.0                     1\n",
       "1888.0                     1\n",
       "1889.0                   724\n",
       "1890.0                     7\n",
       "...                      ...\n",
       "2015.0                     8\n",
       "2016.0                     3\n",
       "2018.0                    32\n",
       "2019.0                     1\n",
       "2020.0                     1\n",
       "\n",
       "[125 rows x 1 columns]"
      ]
     },
     "execution_count": 3,
     "metadata": {},
     "output_type": "execute_result"
    }
   ],
   "source": [
    "#group the pieces by year acquired\n",
    "year_acq_group = year_acq.groupby(\"AccessionYear\").count()\n",
    "\n",
    "year_acq_group"
   ]
  },
  {
   "cell_type": "code",
   "execution_count": 4,
   "id": "charitable-liability",
   "metadata": {
    "scrolled": true
   },
   "outputs": [
    {
     "data": {
      "image/png": "[encoded data removed]",
      "text/plain": [
       "<Figure size 432x288 with 1 Axes>"
      ]
     },
     "metadata": {
      "needs_background": "light"
     },
     "output_type": "display_data"
    }
   ],
   "source": [
    "#plot the data as a time series - years on X and number of items acquired on Y\n",
    "year_acq_group.plot()\n",
    "pyplot.show()"
   ]
  },
  {
   "cell_type": "code",
   "execution_count": 5,
   "id": "disabled-train",
   "metadata": {},
   "outputs": [
    {
     "data": {
      "image/png": "[encoded data removed]",
      "text/plain": [
       "<Figure size 432x288 with 1 Axes>"
      ]
     },
     "metadata": {
      "needs_background": "light"
     },
     "output_type": "display_data"
    }
   ],
   "source": [
    "#plot the autocorrelation for lags in time series\n",
    "autocorrelation_plot(year_acq_group)\n",
    "pyplot.show()\n",
    "\n",
    "#positive trend for the first approx 10 lags.  Start AR param at 5"
   ]
  },
  {
   "cell_type": "markdown",
   "id": "prospective-outdoors",
   "metadata": {},
   "source": [
    "Create the ARIMA model"
   ]
  },
  {
   "cell_type": "code",
   "execution_count": 6,
   "id": "republican-laundry",
   "metadata": {},
   "outputs": [],
   "source": [
    "#import additional dependencies\n",
    "from statsmodels.tsa.arima.model import ARIMA\n",
    "from pandas import DataFrame"
   ]
  },
  {
   "cell_type": "code",
   "execution_count": 9,
   "id": "transsexual-setup",
   "metadata": {},
   "outputs": [
    {
     "name": "stdout",
     "output_type": "stream",
     "text": [
      "                               SARIMAX Results                                \n",
      "==============================================================================\n",
      "Dep. Variable:          Object Number   No. Observations:                  125\n",
      "Model:                 ARIMA(0, 1, 1)   Log Likelihood                -839.496\n",
      "Date:                Thu, 25 Feb 2021   AIC                           1682.992\n",
      "Time:                        21:31:22   BIC                           1688.633\n",
      "Sample:                             0   HQIC                          1685.284\n",
      "                                - 125                                         \n",
      "Covariance Type:                  opg                                         \n",
      "==============================================================================\n",
      "                 coef    std err          z      P>|z|      [0.025      0.975]\n",
      "------------------------------------------------------------------------------\n",
      "ma.L1         -0.7871      0.071    -11.101      0.000      -0.926      -0.648\n",
      "sigma2      4.413e+04   1280.593     34.461      0.000    4.16e+04    4.66e+04\n",
      "===================================================================================\n",
      "Ljung-Box (L1) (Q):                   0.06   Jarque-Bera (JB):             18294.40\n",
      "Prob(Q):                              0.81   Prob(JB):                         0.00\n",
      "Heteroskedasticity (H):               0.00   Skew:                             6.79\n",
      "Prob(H) (two-sided):                  0.00   Kurtosis:                        60.94\n",
      "===================================================================================\n",
      "\n",
      "Warnings:\n",
      "[1] Covariance matrix calculated using the outer product of gradients (complex-step).\n"
     ]
    },
    {
     "name": "stderr",
     "output_type": "stream",
     "text": [
      "C:\\Users\\lksh0\\anaconda3\\envs\\PythonAdv\\lib\\site-packages\\statsmodels\\tsa\\base\\tsa_model.py:579: ValueWarning: An unsupported index was provided and will be ignored when e.g. forecasting.\n",
      "  ' ignored when e.g. forecasting.', ValueWarning)\n",
      "C:\\Users\\lksh0\\anaconda3\\envs\\PythonAdv\\lib\\site-packages\\statsmodels\\tsa\\base\\tsa_model.py:579: ValueWarning: An unsupported index was provided and will be ignored when e.g. forecasting.\n",
      "  ' ignored when e.g. forecasting.', ValueWarning)\n",
      "C:\\Users\\lksh0\\anaconda3\\envs\\PythonAdv\\lib\\site-packages\\statsmodels\\tsa\\base\\tsa_model.py:579: ValueWarning: An unsupported index was provided and will be ignored when e.g. forecasting.\n",
      "  ' ignored when e.g. forecasting.', ValueWarning)\n"
     ]
    }
   ],
   "source": [
    "#fit the model using year_acq_group data\n",
    "model = ARIMA(year_acq_group, order=(0,1,1))\n",
    "model_fit = model.fit()\n",
    "\n",
    "#summary of the fit model\n",
    "print(model_fit.summary())"
   ]
  },
  {
   "cell_type": "code",
   "execution_count": 10,
   "id": "amber-medicaid",
   "metadata": {},
   "outputs": [
    {
     "data": {
      "image/png": "[encoded data removed]",
      "text/plain": [
       "<Figure size 432x288 with 1 Axes>"
      ]
     },
     "metadata": {
      "needs_background": "light"
     },
     "output_type": "display_data"
    }
   ],
   "source": [
    "# Plot residual errors\n",
    "residuals = DataFrame(model_fit.resid)\n",
    "residuals.plot()\n",
    "pyplot.show()"
   ]
  },
  {
   "cell_type": "code",
   "execution_count": 11,
   "id": "small-distribution",
   "metadata": {},
   "outputs": [
    {
     "data": {
      "image/png": "[encoded data removed]",
      "text/plain": [
       "<Figure size 432x288 with 1 Axes>"
      ]
     },
     "metadata": {
      "needs_background": "light"
     },
     "output_type": "display_data"
    }
   ],
   "source": [
    "#density plot of the residuals\n",
    "residuals.plot(kind='kde')\n",
    "pyplot.show()"
   ]
  },
  {
   "cell_type": "code",
   "execution_count": 12,
   "id": "fifteen-kingston",
   "metadata": {},
   "outputs": [
    {
     "name": "stdout",
     "output_type": "stream",
     "text": [
      "                 0\n",
      "count   125.000000\n",
      "mean     -1.608006\n",
      "std     211.176979\n",
      "min    -318.326395\n",
      "25%     -40.452129\n",
      "50%      -8.195238\n",
      "75%       0.937331\n",
      "max    1943.837798\n"
     ]
    }
   ],
   "source": [
    "#summary stats of residuals\n",
    "print(residuals.describe())"
   ]
  },
  {
   "cell_type": "markdown",
   "id": "beneficial-projection",
   "metadata": {},
   "source": [
    "Test/Train datasets"
   ]
  },
  {
   "cell_type": "code",
   "execution_count": 13,
   "id": "lyric-vietnam",
   "metadata": {},
   "outputs": [],
   "source": [
    "#create test and train datasets\n",
    "X = year_acq_group.values\n",
    "size = int(len(X) * 0.66)\n",
    "train, test = X[0:size], X[size:len(X)]\n",
    "history = [X for X in train]\n",
    "predictions = list()"
   ]
  },
  {
   "cell_type": "code",
   "execution_count": 16,
   "id": "sustainable-kitty",
   "metadata": {},
   "outputs": [
    {
     "name": "stdout",
     "output_type": "stream",
     "text": [
      "predicted=9.731317, expected=8.000000\n",
      "predicted=9.812425, expected=3.000000\n",
      "predicted=8.299141, expected=10.000000\n",
      "predicted=9.003131, expected=21.000000\n",
      "predicted=11.795202, expected=9.000000\n",
      "predicted=10.612571, expected=30.000000\n",
      "predicted=15.301309, expected=12.000000\n",
      "predicted=13.685096, expected=19.000000\n",
      "predicted=15.039586, expected=14.000000\n",
      "predicted=14.567251, expected=13.000000\n",
      "predicted=14.227173, expected=4.000000\n",
      "predicted=11.873283, expected=7.000000\n",
      "predicted=11.167898, expected=34.000000\n",
      "predicted=16.813886, expected=6.000000\n",
      "predicted=13.271550, expected=32.000000\n",
      "predicted=18.119062, expected=11.000000\n",
      "predicted=15.639873, expected=7.000000\n",
      "predicted=13.859905, expected=24.000000\n",
      "predicted=16.651342, expected=7.000000\n",
      "predicted=13.947106, expected=12.000000\n",
      "predicted=13.885205, expected=11.000000\n",
      "predicted=13.311548, expected=14.000000\n",
      "predicted=13.607621, expected=17.000000\n",
      "predicted=14.387205, expected=12.000000\n",
      "predicted=13.672496, expected=5.000000\n",
      "predicted=11.719753, expected=32.000000\n",
      "predicted=16.899543, expected=20.000000\n",
      "predicted=16.758876, expected=8.000000\n",
      "predicted=14.501645, expected=16.000000\n",
      "predicted=15.231821, expected=18.000000\n",
      "predicted=15.840736, expected=11.000000\n",
      "predicted=14.572276, expected=26.000000\n",
      "predicted=17.477245, expected=9.000000\n",
      "predicted=14.980726, expected=9.000000\n",
      "predicted=13.916968, expected=44.000000\n",
      "predicted=21.300724, expected=5.000000\n",
      "predicted=16.134129, expected=10.000000\n",
      "predicted=15.334794, expected=7.000000\n",
      "predicted=13.680548, expected=8.000000\n",
      "predicted=12.731564, expected=3.000000\n",
      "predicted=10.714331, expected=32.000000\n",
      "predicted=16.183887, expected=1.000000\n",
      "predicted=11.681379, expected=1.000000\n"
     ]
    }
   ],
   "source": [
    "#walk-forward validation\n",
    "for t in range(len(test)):\n",
    "    model = ARIMA (history, order=(1,1,1))\n",
    "    model_fit = model.fit()\n",
    "    output = model_fit.forecast()\n",
    "    yhat = output[0]\n",
    "    predictions.append(yhat)\n",
    "    obs = test[t]\n",
    "    history.append(obs)\n",
    "    print('predicted=%f, expected=%f' % (yhat, obs))"
   ]
  },
  {
   "cell_type": "code",
   "execution_count": 19,
   "id": "meaning-notion",
   "metadata": {},
   "outputs": [
    {
     "data": {
      "image/png": "[encoded data removed]",
      "text/plain": [
       "<Figure size 432x288 with 1 Axes>"
      ]
     },
     "metadata": {
      "needs_background": "light"
     },
     "output_type": "display_data"
    }
   ],
   "source": [
    "#plot forecasts against actual outcomes\n",
    "pyplot.plot(test)\n",
    "pyplot.plot(predictions, color='red')\n",
    "pyplot.show()"
   ]
  }
 ],
 "metadata": {
  "kernelspec": {
   "display_name": "Python [conda env:PythonAdv] *",
   "language": "python",
   "name": "conda-env-PythonAdv-py"
  },
  "language_info": {
   "codemirror_mode": {
    "name": "ipython",
    "version": 3
   },
   "file_extension": ".py",
   "mimetype": "text/x-python",
   "name": "python",
   "nbconvert_exporter": "python",
   "pygments_lexer": "ipython3",
   "version": "3.6.12"
  }
 },
 "nbformat": 4,
 "nbformat_minor": 5
}
