{
 "cells": [
  {
   "cell_type": "markdown",
   "metadata": {},
   "source": [
    "## Import Dependencies"
   ]
  },
  {
   "cell_type": "code",
   "execution_count": 3,
   "metadata": {},
   "outputs": [],
   "source": [
    "# linear algebra\n",
    "import numpy as np \n",
    "\n",
    "# data processing\n",
    "import pandas as pd \n",
    "import os \n",
    "\n",
    "# data visualization\n",
    "import seaborn as sns\n",
    "%matplotlib inline\n",
    "from matplotlib import pyplot as plt\n",
    "from matplotlib import style\n",
    "\n",
    "# Algorithms\n",
    "from sklearn.ensemble import RandomForestClassifier\n",
    "from sklearn import tree"
   ]
  },
  {
   "cell_type": "markdown",
   "metadata": {},
   "source": [
    "## Read CSV and explore"
   ]
  },
  {
   "cell_type": "code",
   "execution_count": 4,
   "metadata": {},
   "outputs": [
    {
     "data": {
      "text/html": [
       "<div>\n",
       "<style scoped>\n",
       "    .dataframe tbody tr th:only-of-type {\n",
       "        vertical-align: middle;\n",
       "    }\n",
       "\n",
       "    .dataframe tbody tr th {\n",
       "        vertical-align: top;\n",
       "    }\n",
       "\n",
       "    .dataframe thead th {\n",
       "        text-align: right;\n",
       "    }\n",
       "</style>\n",
       "<table border=\"1\" class=\"dataframe\">\n",
       "  <thead>\n",
       "    <tr style=\"text-align: right;\">\n",
       "      <th></th>\n",
       "      <th>Is Highlight</th>\n",
       "      <th>Is Timeline Work</th>\n",
       "      <th>Is Public Domain</th>\n",
       "      <th>Department</th>\n",
       "      <th>AccessionYear</th>\n",
       "      <th>Object Begin Date</th>\n",
       "      <th>Object End Date</th>\n",
       "    </tr>\n",
       "  </thead>\n",
       "  <tbody>\n",
       "    <tr>\n",
       "      <th>0</th>\n",
       "      <td>False</td>\n",
       "      <td>False</td>\n",
       "      <td>True</td>\n",
       "      <td>Greek and Roman Art</td>\n",
       "      <td>2011</td>\n",
       "      <td>1</td>\n",
       "      <td>100</td>\n",
       "    </tr>\n",
       "    <tr>\n",
       "      <th>1</th>\n",
       "      <td>False</td>\n",
       "      <td>False</td>\n",
       "      <td>True</td>\n",
       "      <td>Greek and Roman Art</td>\n",
       "      <td>2011</td>\n",
       "      <td>1</td>\n",
       "      <td>100</td>\n",
       "    </tr>\n",
       "    <tr>\n",
       "      <th>2</th>\n",
       "      <td>False</td>\n",
       "      <td>False</td>\n",
       "      <td>True</td>\n",
       "      <td>Greek and Roman Art</td>\n",
       "      <td>2011</td>\n",
       "      <td>1</td>\n",
       "      <td>100</td>\n",
       "    </tr>\n",
       "    <tr>\n",
       "      <th>3</th>\n",
       "      <td>False</td>\n",
       "      <td>False</td>\n",
       "      <td>True</td>\n",
       "      <td>Greek and Roman Art</td>\n",
       "      <td>2011</td>\n",
       "      <td>1</td>\n",
       "      <td>200</td>\n",
       "    </tr>\n",
       "    <tr>\n",
       "      <th>4</th>\n",
       "      <td>False</td>\n",
       "      <td>False</td>\n",
       "      <td>True</td>\n",
       "      <td>Asian Art</td>\n",
       "      <td>2010</td>\n",
       "      <td>1</td>\n",
       "      <td>99</td>\n",
       "    </tr>\n",
       "  </tbody>\n",
       "</table>\n",
       "</div>"
      ],
      "text/plain": [
       "   Is Highlight  Is Timeline Work  Is Public Domain           Department  \\\n",
       "0         False             False              True  Greek and Roman Art   \n",
       "1         False             False              True  Greek and Roman Art   \n",
       "2         False             False              True  Greek and Roman Art   \n",
       "3         False             False              True  Greek and Roman Art   \n",
       "4         False             False              True            Asian Art   \n",
       "\n",
       "   AccessionYear  Object Begin Date  Object End Date  \n",
       "0           2011                  1              100  \n",
       "1           2011                  1              100  \n",
       "2           2011                  1              100  \n",
       "3           2011                  1              200  \n",
       "4           2010                  1               99  "
      ]
     },
     "execution_count": 4,
     "metadata": {},
     "output_type": "execute_result"
    }
   ],
   "source": [
    "full_df = pd.read_csv(os.path.join(\"..\", \"Resources\", \"MetObjectsML_train.csv\"))\n",
    "full_df.head()"
   ]
  },
  {
   "cell_type": "code",
   "execution_count": 5,
   "metadata": {},
   "outputs": [
    {
     "name": "stdout",
     "output_type": "stream",
     "text": [
      "<class 'pandas.core.frame.DataFrame'>\n",
      "RangeIndex: 402609 entries, 0 to 402608\n",
      "Data columns (total 7 columns):\n",
      " #   Column             Non-Null Count   Dtype \n",
      "---  ------             --------------   ----- \n",
      " 0   Is Highlight       402609 non-null  bool  \n",
      " 1   Is Timeline Work   402609 non-null  bool  \n",
      " 2   Is Public Domain   402609 non-null  bool  \n",
      " 3   Department         402609 non-null  object\n",
      " 4   AccessionYear      402609 non-null  int64 \n",
      " 5   Object Begin Date  402609 non-null  int64 \n",
      " 6   Object End Date    402609 non-null  int64 \n",
      "dtypes: bool(3), int64(3), object(1)\n",
      "memory usage: 13.4+ MB\n"
     ]
    }
   ],
   "source": [
    "full_df.info()"
   ]
  },
  {
   "cell_type": "code",
   "execution_count": 6,
   "metadata": {},
   "outputs": [
    {
     "data": {
      "text/html": [
       "<div>\n",
       "<style scoped>\n",
       "    .dataframe tbody tr th:only-of-type {\n",
       "        vertical-align: middle;\n",
       "    }\n",
       "\n",
       "    .dataframe tbody tr th {\n",
       "        vertical-align: top;\n",
       "    }\n",
       "\n",
       "    .dataframe thead th {\n",
       "        text-align: right;\n",
       "    }\n",
       "</style>\n",
       "<table border=\"1\" class=\"dataframe\">\n",
       "  <thead>\n",
       "    <tr style=\"text-align: right;\">\n",
       "      <th></th>\n",
       "      <th>AccessionYear</th>\n",
       "      <th>Object Begin Date</th>\n",
       "      <th>Object End Date</th>\n",
       "    </tr>\n",
       "  </thead>\n",
       "  <tbody>\n",
       "    <tr>\n",
       "      <th>count</th>\n",
       "      <td>402609.000000</td>\n",
       "      <td>402609.000000</td>\n",
       "      <td>402609.000000</td>\n",
       "    </tr>\n",
       "    <tr>\n",
       "      <th>mean</th>\n",
       "      <td>1956.775477</td>\n",
       "      <td>1718.029023</td>\n",
       "      <td>1766.843245</td>\n",
       "    </tr>\n",
       "    <tr>\n",
       "      <th>std</th>\n",
       "      <td>33.127004</td>\n",
       "      <td>343.504080</td>\n",
       "      <td>296.131975</td>\n",
       "    </tr>\n",
       "    <tr>\n",
       "      <th>min</th>\n",
       "      <td>1870.000000</td>\n",
       "      <td>1.000000</td>\n",
       "      <td>1.000000</td>\n",
       "    </tr>\n",
       "    <tr>\n",
       "      <th>25%</th>\n",
       "      <td>1932.000000</td>\n",
       "      <td>1680.000000</td>\n",
       "      <td>1735.000000</td>\n",
       "    </tr>\n",
       "    <tr>\n",
       "      <th>50%</th>\n",
       "      <td>1960.000000</td>\n",
       "      <td>1822.000000</td>\n",
       "      <td>1870.000000</td>\n",
       "    </tr>\n",
       "    <tr>\n",
       "      <th>75%</th>\n",
       "      <td>1980.000000</td>\n",
       "      <td>1900.000000</td>\n",
       "      <td>1916.000000</td>\n",
       "    </tr>\n",
       "    <tr>\n",
       "      <th>max</th>\n",
       "      <td>2020.000000</td>\n",
       "      <td>5000.000000</td>\n",
       "      <td>15335.000000</td>\n",
       "    </tr>\n",
       "  </tbody>\n",
       "</table>\n",
       "</div>"
      ],
      "text/plain": [
       "       AccessionYear  Object Begin Date  Object End Date\n",
       "count  402609.000000      402609.000000    402609.000000\n",
       "mean     1956.775477        1718.029023      1766.843245\n",
       "std        33.127004         343.504080       296.131975\n",
       "min      1870.000000           1.000000         1.000000\n",
       "25%      1932.000000        1680.000000      1735.000000\n",
       "50%      1960.000000        1822.000000      1870.000000\n",
       "75%      1980.000000        1900.000000      1916.000000\n",
       "max      2020.000000        5000.000000     15335.000000"
      ]
     },
     "execution_count": 6,
     "metadata": {},
     "output_type": "execute_result"
    }
   ],
   "source": [
    "full_df.describe()"
   ]
  },
  {
   "cell_type": "markdown",
   "metadata": {},
   "source": [
    "## Convert boolean columns to integer"
   ]
  },
  {
   "cell_type": "code",
   "execution_count": 7,
   "metadata": {},
   "outputs": [],
   "source": [
    "full_df[\"Is Public Domain\"] = full_df[\"Is Public Domain\"]*1"
   ]
  },
  {
   "cell_type": "code",
   "execution_count": 8,
   "metadata": {},
   "outputs": [
    {
     "data": {
      "text/html": [
       "<div>\n",
       "<style scoped>\n",
       "    .dataframe tbody tr th:only-of-type {\n",
       "        vertical-align: middle;\n",
       "    }\n",
       "\n",
       "    .dataframe tbody tr th {\n",
       "        vertical-align: top;\n",
       "    }\n",
       "\n",
       "    .dataframe thead th {\n",
       "        text-align: right;\n",
       "    }\n",
       "</style>\n",
       "<table border=\"1\" class=\"dataframe\">\n",
       "  <thead>\n",
       "    <tr style=\"text-align: right;\">\n",
       "      <th></th>\n",
       "      <th>Is Highlight</th>\n",
       "      <th>Is Timeline Work</th>\n",
       "      <th>Is Public Domain</th>\n",
       "      <th>Department</th>\n",
       "      <th>AccessionYear</th>\n",
       "      <th>Object Begin Date</th>\n",
       "      <th>Object End Date</th>\n",
       "    </tr>\n",
       "  </thead>\n",
       "  <tbody>\n",
       "    <tr>\n",
       "      <th>0</th>\n",
       "      <td>False</td>\n",
       "      <td>False</td>\n",
       "      <td>1</td>\n",
       "      <td>Greek and Roman Art</td>\n",
       "      <td>2011</td>\n",
       "      <td>1</td>\n",
       "      <td>100</td>\n",
       "    </tr>\n",
       "    <tr>\n",
       "      <th>1</th>\n",
       "      <td>False</td>\n",
       "      <td>False</td>\n",
       "      <td>1</td>\n",
       "      <td>Greek and Roman Art</td>\n",
       "      <td>2011</td>\n",
       "      <td>1</td>\n",
       "      <td>100</td>\n",
       "    </tr>\n",
       "    <tr>\n",
       "      <th>2</th>\n",
       "      <td>False</td>\n",
       "      <td>False</td>\n",
       "      <td>1</td>\n",
       "      <td>Greek and Roman Art</td>\n",
       "      <td>2011</td>\n",
       "      <td>1</td>\n",
       "      <td>100</td>\n",
       "    </tr>\n",
       "    <tr>\n",
       "      <th>3</th>\n",
       "      <td>False</td>\n",
       "      <td>False</td>\n",
       "      <td>1</td>\n",
       "      <td>Greek and Roman Art</td>\n",
       "      <td>2011</td>\n",
       "      <td>1</td>\n",
       "      <td>200</td>\n",
       "    </tr>\n",
       "    <tr>\n",
       "      <th>4</th>\n",
       "      <td>False</td>\n",
       "      <td>False</td>\n",
       "      <td>1</td>\n",
       "      <td>Asian Art</td>\n",
       "      <td>2010</td>\n",
       "      <td>1</td>\n",
       "      <td>99</td>\n",
       "    </tr>\n",
       "  </tbody>\n",
       "</table>\n",
       "</div>"
      ],
      "text/plain": [
       "   Is Highlight  Is Timeline Work  Is Public Domain           Department  \\\n",
       "0         False             False                 1  Greek and Roman Art   \n",
       "1         False             False                 1  Greek and Roman Art   \n",
       "2         False             False                 1  Greek and Roman Art   \n",
       "3         False             False                 1  Greek and Roman Art   \n",
       "4         False             False                 1            Asian Art   \n",
       "\n",
       "   AccessionYear  Object Begin Date  Object End Date  \n",
       "0           2011                  1              100  \n",
       "1           2011                  1              100  \n",
       "2           2011                  1              100  \n",
       "3           2011                  1              200  \n",
       "4           2010                  1               99  "
      ]
     },
     "execution_count": 8,
     "metadata": {},
     "output_type": "execute_result"
    }
   ],
   "source": [
    "full_df.head()"
   ]
  },
  {
   "cell_type": "code",
   "execution_count": 9,
   "metadata": {},
   "outputs": [
    {
     "data": {
      "text/plain": [
       "0    211100\n",
       "1    191509\n",
       "Name: Is Public Domain, dtype: int64"
      ]
     },
     "execution_count": 9,
     "metadata": {},
     "output_type": "execute_result"
    }
   ],
   "source": [
    "full_df[\"Is Public Domain\"].value_counts()"
   ]
  },
  {
   "cell_type": "code",
   "execution_count": 10,
   "metadata": {},
   "outputs": [],
   "source": [
    "full_df[\"Is Highlight\"] = full_df[\"Is Highlight\"]*1"
   ]
  },
  {
   "cell_type": "code",
   "execution_count": 11,
   "metadata": {},
   "outputs": [
    {
     "data": {
      "text/plain": [
       "0    400772\n",
       "1      1837\n",
       "Name: Is Highlight, dtype: int64"
      ]
     },
     "execution_count": 11,
     "metadata": {},
     "output_type": "execute_result"
    }
   ],
   "source": [
    "full_df[\"Is Highlight\"].value_counts()"
   ]
  },
  {
   "cell_type": "code",
   "execution_count": 12,
   "metadata": {},
   "outputs": [],
   "source": [
    "full_df[\"Is Timeline Work\"] = full_df[\"Is Timeline Work\"]*1"
   ]
  },
  {
   "cell_type": "code",
   "execution_count": 13,
   "metadata": {},
   "outputs": [
    {
     "data": {
      "text/plain": [
       "0    395751\n",
       "1      6858\n",
       "Name: Is Timeline Work, dtype: int64"
      ]
     },
     "execution_count": 13,
     "metadata": {},
     "output_type": "execute_result"
    }
   ],
   "source": [
    "full_df[\"Is Timeline Work\"].value_counts()"
   ]
  },
  {
   "cell_type": "markdown",
   "metadata": {},
   "source": [
    "## Convert Deptartments (object) columns to integer"
   ]
  },
  {
   "cell_type": "code",
   "execution_count": 14,
   "metadata": {},
   "outputs": [],
   "source": [
    "full_df[\"Department\"] = full_df[\"Department\"].map({\"Ancient Near Eastern Art\": 1,\\\n",
    "                                                     \"Arms and Armor\": 2,\\\n",
    "                                                     \"Arts of Africa, Oceania, and the Americas\": 3,\\\n",
    "                                                     \"Asian Art\": 4,\\\n",
    "                                                     \"Costume Institute\" : 5,\\\n",
    "                                                     \"Drawings and Prints\": 6,\\\n",
    "                                                     \"Egyptian Art\": 7,\\\n",
    "                                                     \"European Paintings\": 8,\\\n",
    "                                                     \"European Sculpture and Decorative Arts\": 9,\\\n",
    "                                                     \"Greek and Roman Art\": 10,\\\n",
    "                                                     \"Islamic Art\": 11,\\\n",
    "                                                     \"Medieval Art\": 12,\\\n",
    "                                                     \"Modern and Contemporary Art\": 13,\\\n",
    "                                                     \"Musical Instruments\": 14,\\\n",
    "                                                     \"Photographs\": 15,\\\n",
    "                                                     \"Robert Lehman Collection\": 16,\\\n",
    "                                                     \"The American Wing\": 17,\\\n",
    "                                                     \"The Cloisters\": 18,\\\n",
    "                                                     \"The Libraries\": 19})"
   ]
  },
  {
   "cell_type": "code",
   "execution_count": 15,
   "metadata": {},
   "outputs": [
    {
     "data": {
      "text/html": [
       "<div>\n",
       "<style scoped>\n",
       "    .dataframe tbody tr th:only-of-type {\n",
       "        vertical-align: middle;\n",
       "    }\n",
       "\n",
       "    .dataframe tbody tr th {\n",
       "        vertical-align: top;\n",
       "    }\n",
       "\n",
       "    .dataframe thead th {\n",
       "        text-align: right;\n",
       "    }\n",
       "</style>\n",
       "<table border=\"1\" class=\"dataframe\">\n",
       "  <thead>\n",
       "    <tr style=\"text-align: right;\">\n",
       "      <th></th>\n",
       "      <th>Is Highlight</th>\n",
       "      <th>Is Timeline Work</th>\n",
       "      <th>Is Public Domain</th>\n",
       "      <th>Department</th>\n",
       "      <th>AccessionYear</th>\n",
       "      <th>Object Begin Date</th>\n",
       "      <th>Object End Date</th>\n",
       "    </tr>\n",
       "  </thead>\n",
       "  <tbody>\n",
       "    <tr>\n",
       "      <th>0</th>\n",
       "      <td>0</td>\n",
       "      <td>0</td>\n",
       "      <td>1</td>\n",
       "      <td>10</td>\n",
       "      <td>2011</td>\n",
       "      <td>1</td>\n",
       "      <td>100</td>\n",
       "    </tr>\n",
       "    <tr>\n",
       "      <th>1</th>\n",
       "      <td>0</td>\n",
       "      <td>0</td>\n",
       "      <td>1</td>\n",
       "      <td>10</td>\n",
       "      <td>2011</td>\n",
       "      <td>1</td>\n",
       "      <td>100</td>\n",
       "    </tr>\n",
       "    <tr>\n",
       "      <th>2</th>\n",
       "      <td>0</td>\n",
       "      <td>0</td>\n",
       "      <td>1</td>\n",
       "      <td>10</td>\n",
       "      <td>2011</td>\n",
       "      <td>1</td>\n",
       "      <td>100</td>\n",
       "    </tr>\n",
       "    <tr>\n",
       "      <th>3</th>\n",
       "      <td>0</td>\n",
       "      <td>0</td>\n",
       "      <td>1</td>\n",
       "      <td>10</td>\n",
       "      <td>2011</td>\n",
       "      <td>1</td>\n",
       "      <td>200</td>\n",
       "    </tr>\n",
       "    <tr>\n",
       "      <th>4</th>\n",
       "      <td>0</td>\n",
       "      <td>0</td>\n",
       "      <td>1</td>\n",
       "      <td>4</td>\n",
       "      <td>2010</td>\n",
       "      <td>1</td>\n",
       "      <td>99</td>\n",
       "    </tr>\n",
       "  </tbody>\n",
       "</table>\n",
       "</div>"
      ],
      "text/plain": [
       "   Is Highlight  Is Timeline Work  Is Public Domain  Department  \\\n",
       "0             0                 0                 1          10   \n",
       "1             0                 0                 1          10   \n",
       "2             0                 0                 1          10   \n",
       "3             0                 0                 1          10   \n",
       "4             0                 0                 1           4   \n",
       "\n",
       "   AccessionYear  Object Begin Date  Object End Date  \n",
       "0           2011                  1              100  \n",
       "1           2011                  1              100  \n",
       "2           2011                  1              100  \n",
       "3           2011                  1              200  \n",
       "4           2010                  1               99  "
      ]
     },
     "execution_count": 15,
     "metadata": {},
     "output_type": "execute_result"
    }
   ],
   "source": [
    "full_df.head()"
   ]
  },
  {
   "cell_type": "code",
   "execution_count": 16,
   "metadata": {},
   "outputs": [
    {
     "name": "stdout",
     "output_type": "stream",
     "text": [
      "<class 'pandas.core.frame.DataFrame'>\n",
      "RangeIndex: 402609 entries, 0 to 402608\n",
      "Data columns (total 7 columns):\n",
      " #   Column             Non-Null Count   Dtype\n",
      "---  ------             --------------   -----\n",
      " 0   Is Highlight       402609 non-null  int32\n",
      " 1   Is Timeline Work   402609 non-null  int32\n",
      " 2   Is Public Domain   402609 non-null  int32\n",
      " 3   Department         402609 non-null  int64\n",
      " 4   AccessionYear      402609 non-null  int64\n",
      " 5   Object Begin Date  402609 non-null  int64\n",
      " 6   Object End Date    402609 non-null  int64\n",
      "dtypes: int32(3), int64(4)\n",
      "memory usage: 16.9 MB\n"
     ]
    }
   ],
   "source": [
    "full_df.info()"
   ]
  },
  {
   "cell_type": "markdown",
   "metadata": {},
   "source": [
    "## Randomly select rows of dataframe for training"
   ]
  },
  {
   "cell_type": "code",
   "execution_count": 17,
   "metadata": {},
   "outputs": [],
   "source": [
    "sample_df= full_df.sample(n=200000)"
   ]
  },
  {
   "cell_type": "code",
   "execution_count": 18,
   "metadata": {},
   "outputs": [],
   "source": [
    "#train_df= sample_df.head(200000)"
   ]
  },
  {
   "cell_type": "code",
   "execution_count": 19,
   "metadata": {},
   "outputs": [
    {
     "data": {
      "text/html": [
       "<div>\n",
       "<style scoped>\n",
       "    .dataframe tbody tr th:only-of-type {\n",
       "        vertical-align: middle;\n",
       "    }\n",
       "\n",
       "    .dataframe tbody tr th {\n",
       "        vertical-align: top;\n",
       "    }\n",
       "\n",
       "    .dataframe thead th {\n",
       "        text-align: right;\n",
       "    }\n",
       "</style>\n",
       "<table border=\"1\" class=\"dataframe\">\n",
       "  <thead>\n",
       "    <tr style=\"text-align: right;\">\n",
       "      <th></th>\n",
       "      <th>Is Highlight</th>\n",
       "      <th>Is Timeline Work</th>\n",
       "      <th>Is Public Domain</th>\n",
       "      <th>Department</th>\n",
       "      <th>AccessionYear</th>\n",
       "      <th>Object Begin Date</th>\n",
       "      <th>Object End Date</th>\n",
       "    </tr>\n",
       "  </thead>\n",
       "  <tbody>\n",
       "    <tr>\n",
       "      <th>12911</th>\n",
       "      <td>0</td>\n",
       "      <td>0</td>\n",
       "      <td>1</td>\n",
       "      <td>12</td>\n",
       "      <td>1912</td>\n",
       "      <td>600</td>\n",
       "      <td>700</td>\n",
       "    </tr>\n",
       "    <tr>\n",
       "      <th>4701</th>\n",
       "      <td>0</td>\n",
       "      <td>0</td>\n",
       "      <td>1</td>\n",
       "      <td>1</td>\n",
       "      <td>1936</td>\n",
       "      <td>200</td>\n",
       "      <td>699</td>\n",
       "    </tr>\n",
       "    <tr>\n",
       "      <th>272623</th>\n",
       "      <td>0</td>\n",
       "      <td>0</td>\n",
       "      <td>1</td>\n",
       "      <td>6</td>\n",
       "      <td>1963</td>\n",
       "      <td>1888</td>\n",
       "      <td>1888</td>\n",
       "    </tr>\n",
       "    <tr>\n",
       "      <th>226232</th>\n",
       "      <td>0</td>\n",
       "      <td>0</td>\n",
       "      <td>0</td>\n",
       "      <td>14</td>\n",
       "      <td>1889</td>\n",
       "      <td>1850</td>\n",
       "      <td>1900</td>\n",
       "    </tr>\n",
       "    <tr>\n",
       "      <th>205825</th>\n",
       "      <td>0</td>\n",
       "      <td>0</td>\n",
       "      <td>1</td>\n",
       "      <td>2</td>\n",
       "      <td>1914</td>\n",
       "      <td>1829</td>\n",
       "      <td>1829</td>\n",
       "    </tr>\n",
       "  </tbody>\n",
       "</table>\n",
       "</div>"
      ],
      "text/plain": [
       "        Is Highlight  Is Timeline Work  Is Public Domain  Department  \\\n",
       "12911              0                 0                 1          12   \n",
       "4701               0                 0                 1           1   \n",
       "272623             0                 0                 1           6   \n",
       "226232             0                 0                 0          14   \n",
       "205825             0                 0                 1           2   \n",
       "\n",
       "        AccessionYear  Object Begin Date  Object End Date  \n",
       "12911            1912                600              700  \n",
       "4701             1936                200              699  \n",
       "272623           1963               1888             1888  \n",
       "226232           1889               1850             1900  \n",
       "205825           1914               1829             1829  "
      ]
     },
     "execution_count": 19,
     "metadata": {},
     "output_type": "execute_result"
    }
   ],
   "source": [
    "train_df= sample_df\n",
    "train_df.head()"
   ]
  },
  {
   "cell_type": "code",
   "execution_count": 20,
   "metadata": {},
   "outputs": [
    {
     "name": "stdout",
     "output_type": "stream",
     "text": [
      "<class 'pandas.core.frame.DataFrame'>\n",
      "Int64Index: 200000 entries, 12911 to 335152\n",
      "Data columns (total 7 columns):\n",
      " #   Column             Non-Null Count   Dtype\n",
      "---  ------             --------------   -----\n",
      " 0   Is Highlight       200000 non-null  int32\n",
      " 1   Is Timeline Work   200000 non-null  int32\n",
      " 2   Is Public Domain   200000 non-null  int32\n",
      " 3   Department         200000 non-null  int64\n",
      " 4   AccessionYear      200000 non-null  int64\n",
      " 5   Object Begin Date  200000 non-null  int64\n",
      " 6   Object End Date    200000 non-null  int64\n",
      "dtypes: int32(3), int64(4)\n",
      "memory usage: 9.9 MB\n"
     ]
    }
   ],
   "source": [
    "train_df.info()"
   ]
  },
  {
   "cell_type": "markdown",
   "metadata": {},
   "source": [
    "## Build Machine Learning Model- Random Forest"
   ]
  },
  {
   "cell_type": "code",
   "execution_count": 21,
   "metadata": {},
   "outputs": [],
   "source": [
    "target = train_df[\"Is Public Domain\"]\n",
    "target_names= [\"yes\", \"no\"]"
   ]
  },
  {
   "cell_type": "code",
   "execution_count": 22,
   "metadata": {},
   "outputs": [
    {
     "data": {
      "text/html": [
       "<div>\n",
       "<style scoped>\n",
       "    .dataframe tbody tr th:only-of-type {\n",
       "        vertical-align: middle;\n",
       "    }\n",
       "\n",
       "    .dataframe tbody tr th {\n",
       "        vertical-align: top;\n",
       "    }\n",
       "\n",
       "    .dataframe thead th {\n",
       "        text-align: right;\n",
       "    }\n",
       "</style>\n",
       "<table border=\"1\" class=\"dataframe\">\n",
       "  <thead>\n",
       "    <tr style=\"text-align: right;\">\n",
       "      <th></th>\n",
       "      <th>Is Highlight</th>\n",
       "      <th>Is Timeline Work</th>\n",
       "      <th>Department</th>\n",
       "      <th>AccessionYear</th>\n",
       "      <th>Object Begin Date</th>\n",
       "      <th>Object End Date</th>\n",
       "    </tr>\n",
       "  </thead>\n",
       "  <tbody>\n",
       "    <tr>\n",
       "      <th>12911</th>\n",
       "      <td>0</td>\n",
       "      <td>0</td>\n",
       "      <td>12</td>\n",
       "      <td>1912</td>\n",
       "      <td>600</td>\n",
       "      <td>700</td>\n",
       "    </tr>\n",
       "    <tr>\n",
       "      <th>4701</th>\n",
       "      <td>0</td>\n",
       "      <td>0</td>\n",
       "      <td>1</td>\n",
       "      <td>1936</td>\n",
       "      <td>200</td>\n",
       "      <td>699</td>\n",
       "    </tr>\n",
       "    <tr>\n",
       "      <th>272623</th>\n",
       "      <td>0</td>\n",
       "      <td>0</td>\n",
       "      <td>6</td>\n",
       "      <td>1963</td>\n",
       "      <td>1888</td>\n",
       "      <td>1888</td>\n",
       "    </tr>\n",
       "    <tr>\n",
       "      <th>226232</th>\n",
       "      <td>0</td>\n",
       "      <td>0</td>\n",
       "      <td>14</td>\n",
       "      <td>1889</td>\n",
       "      <td>1850</td>\n",
       "      <td>1900</td>\n",
       "    </tr>\n",
       "    <tr>\n",
       "      <th>205825</th>\n",
       "      <td>0</td>\n",
       "      <td>0</td>\n",
       "      <td>2</td>\n",
       "      <td>1914</td>\n",
       "      <td>1829</td>\n",
       "      <td>1829</td>\n",
       "    </tr>\n",
       "  </tbody>\n",
       "</table>\n",
       "</div>"
      ],
      "text/plain": [
       "        Is Highlight  Is Timeline Work  Department  AccessionYear  \\\n",
       "12911              0                 0          12           1912   \n",
       "4701               0                 0           1           1936   \n",
       "272623             0                 0           6           1963   \n",
       "226232             0                 0          14           1889   \n",
       "205825             0                 0           2           1914   \n",
       "\n",
       "        Object Begin Date  Object End Date  \n",
       "12911                 600              700  \n",
       "4701                  200              699  \n",
       "272623               1888             1888  \n",
       "226232               1850             1900  \n",
       "205825               1829             1829  "
      ]
     },
     "execution_count": 22,
     "metadata": {},
     "output_type": "execute_result"
    }
   ],
   "source": [
    "data = train_df.drop(\"Is Public Domain\", axis=1)\n",
    "feature_names = data.columns\n",
    "data.head()"
   ]
  },
  {
   "cell_type": "code",
   "execution_count": 23,
   "metadata": {},
   "outputs": [
    {
     "data": {
      "text/html": [
       "<div>\n",
       "<style scoped>\n",
       "    .dataframe tbody tr th:only-of-type {\n",
       "        vertical-align: middle;\n",
       "    }\n",
       "\n",
       "    .dataframe tbody tr th {\n",
       "        vertical-align: top;\n",
       "    }\n",
       "\n",
       "    .dataframe thead th {\n",
       "        text-align: right;\n",
       "    }\n",
       "</style>\n",
       "<table border=\"1\" class=\"dataframe\">\n",
       "  <thead>\n",
       "    <tr style=\"text-align: right;\">\n",
       "      <th></th>\n",
       "      <th>Is Highlight</th>\n",
       "      <th>Is Timeline Work</th>\n",
       "      <th>Department</th>\n",
       "      <th>AccessionYear</th>\n",
       "      <th>Object Begin Date</th>\n",
       "      <th>Object End Date</th>\n",
       "    </tr>\n",
       "  </thead>\n",
       "  <tbody>\n",
       "    <tr>\n",
       "      <th>12911</th>\n",
       "      <td>0</td>\n",
       "      <td>0</td>\n",
       "      <td>12</td>\n",
       "      <td>1912</td>\n",
       "      <td>600</td>\n",
       "      <td>700</td>\n",
       "    </tr>\n",
       "    <tr>\n",
       "      <th>4701</th>\n",
       "      <td>0</td>\n",
       "      <td>0</td>\n",
       "      <td>1</td>\n",
       "      <td>1936</td>\n",
       "      <td>200</td>\n",
       "      <td>699</td>\n",
       "    </tr>\n",
       "    <tr>\n",
       "      <th>272623</th>\n",
       "      <td>0</td>\n",
       "      <td>0</td>\n",
       "      <td>6</td>\n",
       "      <td>1963</td>\n",
       "      <td>1888</td>\n",
       "      <td>1888</td>\n",
       "    </tr>\n",
       "    <tr>\n",
       "      <th>226232</th>\n",
       "      <td>0</td>\n",
       "      <td>0</td>\n",
       "      <td>14</td>\n",
       "      <td>1889</td>\n",
       "      <td>1850</td>\n",
       "      <td>1900</td>\n",
       "    </tr>\n",
       "    <tr>\n",
       "      <th>205825</th>\n",
       "      <td>0</td>\n",
       "      <td>0</td>\n",
       "      <td>2</td>\n",
       "      <td>1914</td>\n",
       "      <td>1829</td>\n",
       "      <td>1829</td>\n",
       "    </tr>\n",
       "  </tbody>\n",
       "</table>\n",
       "</div>"
      ],
      "text/plain": [
       "        Is Highlight  Is Timeline Work  Department  AccessionYear  \\\n",
       "12911              0                 0          12           1912   \n",
       "4701               0                 0           1           1936   \n",
       "272623             0                 0           6           1963   \n",
       "226232             0                 0          14           1889   \n",
       "205825             0                 0           2           1914   \n",
       "\n",
       "        Object Begin Date  Object End Date  \n",
       "12911                 600              700  \n",
       "4701                  200              699  \n",
       "272623               1888             1888  \n",
       "226232               1850             1900  \n",
       "205825               1829             1829  "
      ]
     },
     "execution_count": 23,
     "metadata": {},
     "output_type": "execute_result"
    }
   ],
   "source": [
    "data.head()"
   ]
  },
  {
   "cell_type": "code",
   "execution_count": 24,
   "metadata": {},
   "outputs": [],
   "source": [
    "from sklearn.model_selection import train_test_split\n",
    "X_train, X_test, y_train, y_test = train_test_split(train_df, target, random_state=42)"
   ]
  },
  {
   "cell_type": "code",
   "execution_count": 25,
   "metadata": {},
   "outputs": [
    {
     "data": {
      "text/plain": [
       "1.0"
      ]
     },
     "execution_count": 25,
     "metadata": {},
     "output_type": "execute_result"
    }
   ],
   "source": [
    "clf = tree.DecisionTreeClassifier()\n",
    "clf = clf.fit(X_train, y_train)\n",
    "clf.score(X_test, y_test)"
   ]
  },
  {
   "cell_type": "code",
   "execution_count": 26,
   "metadata": {},
   "outputs": [
    {
     "data": {
      "text/plain": [
       "1.0"
      ]
     },
     "execution_count": 26,
     "metadata": {},
     "output_type": "execute_result"
    }
   ],
   "source": [
    "from sklearn.ensemble import RandomForestClassifier\n",
    "rf = RandomForestClassifier(n_estimators=5000)\n",
    "rf = rf.fit(X_train, y_train)\n",
    "rf.score(X_test, y_test)"
   ]
  },
  {
   "cell_type": "code",
   "execution_count": 27,
   "metadata": {},
   "outputs": [
    {
     "data": {
      "text/plain": [
       "[(0.7504150834820215, 'Department'),\n",
       " (0.0894017090471939, 'Object End Date'),\n",
       " (0.01865914344198285, 'AccessionYear'),\n",
       " (0.01821644522290423, 'Object Begin Date'),\n",
       " (0.0007226178957837451, 'Is Timeline Work'),\n",
       " (2.0964419662206625e-05, 'Is Highlight')]"
      ]
     },
     "execution_count": 27,
     "metadata": {},
     "output_type": "execute_result"
    }
   ],
   "source": [
    "sorted(zip(rf.feature_importances_, feature_names), reverse=True)"
   ]
  },
  {
   "cell_type": "code",
   "execution_count": 28,
   "metadata": {},
   "outputs": [],
   "source": [
    "df= {\"Features\": [\"Department\", \"Object End Date\", \"Accession Year\", \"Object Begin Date\", \"Is Timeline Work\", \"Is Highlight\"],\\\n",
    "     \"Importances\": [0.7504150834820215, 0.0894017090471939, 0.01865914344198285, 0.01821644522290423, 0.0007226178957837451, 2.0964419662206625e-05]}"
   ]
  },
  {
   "cell_type": "code",
   "execution_count": 29,
   "metadata": {},
   "outputs": [
    {
     "data": {
      "text/html": [
       "<div>\n",
       "<style scoped>\n",
       "    .dataframe tbody tr th:only-of-type {\n",
       "        vertical-align: middle;\n",
       "    }\n",
       "\n",
       "    .dataframe tbody tr th {\n",
       "        vertical-align: top;\n",
       "    }\n",
       "\n",
       "    .dataframe thead th {\n",
       "        text-align: right;\n",
       "    }\n",
       "</style>\n",
       "<table border=\"1\" class=\"dataframe\">\n",
       "  <thead>\n",
       "    <tr style=\"text-align: right;\">\n",
       "      <th></th>\n",
       "      <th>Features</th>\n",
       "      <th>Importances</th>\n",
       "    </tr>\n",
       "  </thead>\n",
       "  <tbody>\n",
       "    <tr>\n",
       "      <th>0</th>\n",
       "      <td>Department</td>\n",
       "      <td>0.750415</td>\n",
       "    </tr>\n",
       "    <tr>\n",
       "      <th>1</th>\n",
       "      <td>Object End Date</td>\n",
       "      <td>0.089402</td>\n",
       "    </tr>\n",
       "    <tr>\n",
       "      <th>2</th>\n",
       "      <td>Accession Year</td>\n",
       "      <td>0.018659</td>\n",
       "    </tr>\n",
       "    <tr>\n",
       "      <th>3</th>\n",
       "      <td>Object Begin Date</td>\n",
       "      <td>0.018216</td>\n",
       "    </tr>\n",
       "    <tr>\n",
       "      <th>4</th>\n",
       "      <td>Is Timeline Work</td>\n",
       "      <td>0.000723</td>\n",
       "    </tr>\n",
       "    <tr>\n",
       "      <th>5</th>\n",
       "      <td>Is Highlight</td>\n",
       "      <td>0.000021</td>\n",
       "    </tr>\n",
       "  </tbody>\n",
       "</table>\n",
       "</div>"
      ],
      "text/plain": [
       "            Features  Importances\n",
       "0         Department     0.750415\n",
       "1    Object End Date     0.089402\n",
       "2     Accession Year     0.018659\n",
       "3  Object Begin Date     0.018216\n",
       "4   Is Timeline Work     0.000723\n",
       "5       Is Highlight     0.000021"
      ]
     },
     "execution_count": 29,
     "metadata": {},
     "output_type": "execute_result"
    }
   ],
   "source": [
    "df= pd.DataFrame(data=df)\n",
    "df"
   ]
  },
  {
   "cell_type": "markdown",
   "metadata": {},
   "source": [
    "## Save DataFrame to CSV for Tableau"
   ]
  },
  {
   "cell_type": "code",
   "execution_count": 30,
   "metadata": {},
   "outputs": [],
   "source": [
    "#df.to_csv(r'C:\\Users\\misrael\\Documents\\GitHub\\Project-3-Group-2\\Resources\\Random_Forest_Features.csv', index = False, header=True)"
   ]
  },
  {
   "cell_type": "code",
   "execution_count": null,
   "metadata": {},
   "outputs": [],
   "source": []
  }
 ],
 "metadata": {
  "kernelspec": {
   "display_name": "Python 3",
   "language": "python",
   "name": "python3"
  },
  "language_info": {
   "codemirror_mode": {
    "name": "ipython",
    "version": 3
   },
   "file_extension": ".py",
   "mimetype": "text/x-python",
   "name": "python",
   "nbconvert_exporter": "python",
   "pygments_lexer": "ipython3",
   "version": "3.8.3"
  },
  "varInspector": {
   "cols": {
    "lenName": 16,
    "lenType": 16,
    "lenVar": 40
   },
   "kernels_config": {
    "python": {
     "delete_cmd_postfix": "",
     "delete_cmd_prefix": "del ",
     "library": "var_list.py",
     "varRefreshCmd": "print(var_dic_list())"
    },
    "r": {
     "delete_cmd_postfix": ") ",
     "delete_cmd_prefix": "rm(",
     "library": "var_list.r",
     "varRefreshCmd": "cat(var_dic_list()) "
    }
   },
   "types_to_exclude": [
    "module",
    "function",
    "builtin_function_or_method",
    "instance",
    "_Feature"
   ],
   "window_display": false
  }
 },
 "nbformat": 4,
 "nbformat_minor": 2
}
